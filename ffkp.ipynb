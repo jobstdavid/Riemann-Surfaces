{
 "cells": [
  {
   "cell_type": "code",
   "execution_count": 1,
   "metadata": {},
   "outputs": [],
   "source": [
    "import plotly\n",
    "plotly.tools.set_credentials_file(username='david.jobst', api_key='YLdUzS9KVqGLcbIJIzyV')\n",
    "%matplotlib inline \n",
    "import matplotlib.pyplot as plt\n",
    "from matplotlib.colors import hsv_to_rgb\n",
    "rcdef = plt.rcParams.copy()\n",
    "import plotly.plotly as py\n",
    "import plotly.graph_objs as go\n",
    "import numpy as np"
   ]
  },
  {
   "cell_type": "code",
   "execution_count": 2,
   "metadata": {},
   "outputs": [],
   "source": [
    "#Vorbereitung für komplexe Farbplots\n",
    "\n",
    "def Hcomplex(z):# computes the hue corresponding to the complex number z\n",
    "    H=np.angle(z)/(2*np.pi)+1\n",
    "    return np.mod(H,1)\n",
    "\n",
    "def plot_domain(color_func, f,   re=[-1,1], im= [-1,1], Title='',\n",
    "                s=0.9, N=200, daxis=None):\n",
    "    w=func_vals(f, re, im, N)\n",
    "    domc=color_func(w, s)\n",
    "    plt.xlabel(\"Re$(z)$\")\n",
    "    plt.ylabel(\"Im$(z)$\")\n",
    "    plt.title(Title)\n",
    "    if(daxis):\n",
    "         plt.imshow(domc, origin=\"lower\", extent=[re[0], re[1], im[0], im[1]])\n",
    "       \n",
    "    else:\n",
    "        plt.imshow(domc, origin=\"lower\")\n",
    "        plt.axis('off')\n",
    "\n",
    "def func_vals(f, re, im,  N): #evaluates the complex function at the nodes of the grid\n",
    "   #re and im are  tuples, re=(a,b) and im=(c,d), defining the rectangular region\n",
    "   #N is the number of nodes per unit interval \n",
    "    \n",
    "   l=re[1]-re[0]\n",
    "   h=im[1]-im[0]\n",
    "   resL=N*l #horizontal resolution\n",
    "   resH=N*h#vertical resolution\n",
    "   x=np.linspace(re[0], re[1],resL)\n",
    "   y=np.linspace(im[0], im[1], resH)\n",
    "   x,y=np.meshgrid(x,y)\n",
    "   z=x+1j*y\n",
    "   w=f(z)\n",
    "   return w         \n",
    "        \n",
    "def domaincol_co(w,s):\n",
    "    H=Hcomplex(w) \n",
    "    m=0.7 # brightness is restricted to [0.7,1]; interval suggested by E Wegert\n",
    "    M=1\n",
    "    n=15 # n=number of isochromatic lines per cycle \n",
    "    isol=perfract(H, 1.0/n, m, M) # isochromatic lines\n",
    "    modul=np.absolute(w)\n",
    "    Logm=np.log(modul)\n",
    "    Logm=np.nan_to_num(Logm) \n",
    "    modc=perfract(Logm, 2*np.pi/n, m, M)# lines of constant log-modulus\n",
    "   \n",
    "    V=modc*isol \n",
    "    S = 0.9*np.ones_like(H, float) \n",
    "    HSV = np.dstack((H,S,V))\n",
    "    RGB = hsv_to_rgb(HSV)\n",
    "   \n",
    "    return RGB\n",
    "\n",
    "def perfract(x, t, m, M):\n",
    "    x=x/t\n",
    "    return m+(M-m)*(x-np.floor(x))"
   ]
  }
 ],
 "metadata": {
  "kernelspec": {
   "display_name": "Python 3",
   "language": "python",
   "name": "python3"
  },
  "language_info": {
   "codemirror_mode": {
    "name": "ipython",
    "version": 3
   },
   "file_extension": ".py",
   "mimetype": "text/x-python",
   "name": "python",
   "nbconvert_exporter": "python",
   "pygments_lexer": "ipython3",
   "version": "3.6.5"
  }
 },
 "nbformat": 4,
 "nbformat_minor": 2
}
