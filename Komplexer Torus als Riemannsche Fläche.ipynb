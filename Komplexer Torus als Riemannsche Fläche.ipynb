{
 "cells": [
  {
   "cell_type": "markdown",
   "metadata": {},
   "source": [
    "### Der komplexe Torus als Riemannsche Fläche"
   ]
  },
  {
   "cell_type": "code",
   "execution_count": 1,
   "metadata": {},
   "outputs": [],
   "source": [
    "import plotly.plotly as py\n",
    "import plotly.figure_factory as FF\n",
    "import plotly.graph_objs as go\n",
    "\n",
    "import numpy as np\n",
    "from scipy.spatial import Delaunay"
   ]
  },
  {
   "cell_type": "code",
   "execution_count": 2,
   "metadata": {},
   "outputs": [
    {
     "data": {
      "text/html": [
       "<iframe id=\"igraph\" scrolling=\"no\" style=\"border:none;\" seamless=\"seamless\" src=\"https://plot.ly/~david.jobst/42.embed\" height=\"900px\" width=\"900px\"></iframe>"
      ],
      "text/plain": [
       "<plotly.tools.PlotlyDisplay object>"
      ]
     },
     "execution_count": 2,
     "metadata": {},
     "output_type": "execute_result"
    }
   ],
   "source": [
    "#Farbkodierung komplexer Torus\n",
    "s = np.linspace(0, 2*np.pi, 20)\n",
    "t = np.linspace(0, 2*np.pi, 20)\n",
    "tGrid, sGrid = np.meshgrid(t, s)\n",
    "r = sGrid\n",
    "\n",
    "torus = go.Surface(\n",
    "x = (3 + (np.cos(tGrid)))*np.cos(sGrid),\n",
    "y = (3 + (np.cos(tGrid)))*np.sin(sGrid),\n",
    "z = np.sin(tGrid),\n",
    "showscale=False,\n",
    "colorbar = dict(\n",
    "            title = ''),\n",
    "colorscale='Viridis'\n",
    ")\n",
    "\n",
    "data = [torus]\n",
    "\n",
    "layout = go.Layout(\n",
    "                    title='',\n",
    "                    scene = dict(\n",
    "                    xaxis = dict(\n",
    "                       title='',showticklabels=False, showgrid=False, zeroline=False, showline=False),\n",
    "                    yaxis = dict(\n",
    "                        title='',showticklabels=False, showgrid=False, zeroline=False, showline=False),\n",
    "                    zaxis = dict(\n",
    "                        title='',showticklabels=False, showgrid=False, zeroline=False, showline=False),),\n",
    "                    width=900,\n",
    "                    height=900,\n",
    "                  )\n",
    "\n",
    "fig = go.Figure(data=data, layout=layout)\n",
    "py.iplot(fig, filename='Komplexer Torus')"
   ]
  }
 ],
 "metadata": {
  "kernelspec": {
   "display_name": "Python 3",
   "language": "python",
   "name": "python3"
  },
  "language_info": {
   "codemirror_mode": {
    "name": "ipython",
    "version": 3
   },
   "file_extension": ".py",
   "mimetype": "text/x-python",
   "name": "python",
   "nbconvert_exporter": "python",
   "pygments_lexer": "ipython3",
   "version": "3.6.5"
  }
 },
 "nbformat": 4,
 "nbformat_minor": 2
}
